{
 "cells": [
  {
   "cell_type": "markdown",
   "metadata": {},
   "source": [
    "# Check Style"
   ]
  },
  {
   "cell_type": "code",
   "execution_count": 13,
   "metadata": {
    "collapsed": false
   },
   "outputs": [],
   "source": [
    "!flake8 ../*/*.py ../*.py"
   ]
  },
  {
   "cell_type": "markdown",
   "metadata": {},
   "source": [
    "# Generate READMEs"
   ]
  },
  {
   "cell_type": "code",
   "execution_count": 14,
   "metadata": {
    "collapsed": false
   },
   "outputs": [
    {
     "name": "stdout",
     "output_type": "stream",
     "text": [
      "[NbConvertApp] Converting notebook README.ipynb to rst\n",
      "[NbConvertApp] Converting notebook README.ipynb to markdown\n"
     ]
    }
   ],
   "source": [
    "!jupyter nbconvert README.ipynb --to=rst --stdout > ../README.rst\n",
    "!jupyter nbconvert README.ipynb --to=markdown --stdout > ../README.md"
   ]
  },
  {
   "cell_type": "markdown",
   "metadata": {},
   "source": [
    "# Do node stuff"
   ]
  },
  {
   "cell_type": "code",
   "execution_count": 15,
   "metadata": {
    "collapsed": false
   },
   "outputs": [
    {
     "name": "stdout",
     "output_type": "stream",
     "text": [
      "\n",
      "> nbpresent@0.0.0 build /home/weg/Documents/projects/nbpresent\n",
      "> npm run browserify && npm run less\n",
      "\n",
      "\n",
      "> nbpresent@0.0.0 browserify /home/weg/Documents/projects/nbpresent\n",
      "> bin/browserify.sh\n",
      "\n",
      "\n",
      "> nbpresent@0.0.0 less /home/weg/Documents/projects/nbpresent\n",
      "> bin/less.sh\n",
      "\n",
      "lessc: wrote /home/weg/Documents/projects/nbpresent/nbpresent/static/nbpresent/nbpresent.min.css\n",
      "0m0.002s 0m0.001s\n",
      "0m0.377s 0m0.028s\n"
     ]
    }
   ],
   "source": [
    "!cd .. && npm install && npm run build"
   ]
  },
  {
   "cell_type": "markdown",
   "metadata": {},
   "source": [
    "# PyPi: release dry run"
   ]
  },
  {
   "cell_type": "code",
   "execution_count": null,
   "metadata": {
    "collapsed": false,
    "scrolled": false
   },
   "outputs": [],
   "source": [
    "!cd .. && python setup.py register -r pypitest\n",
    "!cd .. && python setup.py sdist\n",
    "!cd .. && python setup.py bdist_wheel\n",
    "!cd .. && python setup.py sdist bdist_wheel upload -r pypitest"
   ]
  },
  {
   "cell_type": "markdown",
   "metadata": {},
   "source": [
    "# PyPi: release"
   ]
  },
  {
   "cell_type": "code",
   "execution_count": null,
   "metadata": {
    "collapsed": false
   },
   "outputs": [],
   "source": [
    "!cd .. && python setup.py register -r pypi\n",
    "!cd .. && python setup.py sdist\n",
    "!cd .. && python setup.py bdist_wheel\n",
    "!cd .. && python setup.py sdist bdist_wheel upload -r pypi"
   ]
  },
  {
   "cell_type": "code",
   "execution_count": null,
   "metadata": {
    "collapsed": true
   },
   "outputs": [],
   "source": []
  }
 ],
 "metadata": {
  "kernelspec": {
   "display_name": "Python 3",
   "language": "python",
   "name": "python3"
  },
  "language_info": {
   "codemirror_mode": {
    "name": "ipython",
    "version": 3
   },
   "file_extension": ".py",
   "mimetype": "text/x-python",
   "name": "python",
   "nbconvert_exporter": "python",
   "pygments_lexer": "ipython3",
   "version": "3.5.0"
  }
 },
 "nbformat": 4,
 "nbformat_minor": 0
}
