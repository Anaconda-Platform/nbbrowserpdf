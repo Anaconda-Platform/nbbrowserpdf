{
 "cells": [
  {
   "cell_type": "code",
   "execution_count": 50,
   "metadata": {
    "collapsed": false
   },
   "outputs": [],
   "source": [
    "from ipywidgets import widgets\n",
    "import numpy as np  \n",
    "import matplotlib.pyplot as plt\n",
    "import pandas\n",
    "import qgrid\n",
    "qgrid.nbinstall(overwrite=True)\n",
    "qgrid.set_defaults(remote_js=True, precision=4)"
   ]
  },
  {
   "cell_type": "code",
   "execution_count": 51,
   "metadata": {
    "collapsed": true
   },
   "outputs": [],
   "source": [
    "%matplotlib inline"
   ]
  },
  {
   "cell_type": "code",
   "execution_count": 52,
   "metadata": {
    "collapsed": false,
    "nbpresent": {
     "id": "738c9c60-4e56-4357-b895-3e89a7e4cd04"
    }
   },
   "outputs": [
    {
     "data": {
      "image/png": "[encoded data removed]",
      "text/plain": [
       "<matplotlib.figure.Figure at 0x7f3404042a58>"
      ]
     },
     "metadata": {},
     "output_type": "display_data"
    }
   ],
   "source": [
    "@widgets.interact\n",
    "def graph(x=10, y=2):\n",
    "    x = np.array(range(x))\n",
    "    y = x ** y\n",
    "    plt.plot(x, y) \n",
    "    plt.show()"
   ]
  },
  {
   "cell_type": "code",
   "execution_count": 53,
   "metadata": {
    "collapsed": false,
    "nbpresent": {
     "id": "6eed45f4-52ca-4107-91a1-22279a469b1e"
    },
    "scrolled": true
   },
   "outputs": [],
   "source": [
    "df = pandas.DataFrame(\n",
    "    np.random.randn(100, 3)\n",
    ")"
   ]
  },
  {
   "cell_type": "code",
   "execution_count": 54,
   "metadata": {
    "collapsed": false,
    "nbpresent": {
     "id": "6dd75bcd-39e8-4254-a6c8-bbdf55498c5b"
    }
   },
   "outputs": [
    {
     "data": {
      "text/html": [
       "<script type=\"text/javascript\">\n",
       "if ($(\"#dg-css\").length == 0){\n",
       "    $(\"head\").append([\n",
       "        \"<link href='https://cdn.rawgit.com/quantopian/qgrid/72d356cb123fab413dba73ec46616e4916fbd827/qgrid/qgridjs//lib/slick.grid.css' rel='stylesheet'>\",\n",
       "        \"<link href='https://cdn.rawgit.com/quantopian/qgrid/72d356cb123fab413dba73ec46616e4916fbd827/qgrid/qgridjs//lib/slick-default-theme.css' rel='stylesheet'>\",\n",
       "        \"<link href='http://cdnjs.cloudflare.com/ajax/libs/jqueryui/1.10.4/css/jquery-ui.min.css' rel='stylesheet'>\",\n",
       "        \"<link id='dg-css' href='https://cdn.rawgit.com/quantopian/qgrid/72d356cb123fab413dba73ec46616e4916fbd827/qgrid/qgridjs//qgrid.css' rel='stylesheet'>\"\n",
       "    ]);\n",
       "}\n",
       "</script>\n",
       "<div class='q-grid-container'>\n",
       "<div id='135cd709-010a-44d1-802a-5001659eb48b' class='q-grid'></div>\n",
       "</div>"
      ]
     },
     "metadata": {},
     "output_type": "display_data"
    },
    {
     "data": {
      "application/javascript": [
       "var path_dictionary = {\n",
       "    jquery_drag: \"https://cdn.rawgit.com/quantopian/qgrid/72d356cb123fab413dba73ec46616e4916fbd827/qgrid/qgridjs//lib/jquery.event.drag-2.2\",\n",
       "    slick_core: \"https://cdn.rawgit.com/quantopian/qgrid/72d356cb123fab413dba73ec46616e4916fbd827/qgrid/qgridjs//lib/slick.core.2.2\",\n",
       "    slick_data_view: \"https://cdn.rawgit.com/quantopian/qgrid/72d356cb123fab413dba73ec46616e4916fbd827/qgrid/qgridjs//lib/slick.dataview.2.2\",\n",
       "    slick_check_box_column: \"https://cdn.rawgit.com/quantopian/qgrid/72d356cb123fab413dba73ec46616e4916fbd827/qgrid/qgridjs//lib/slick.checkboxselectcolumn\",\n",
       "    slick_row_selection_model: \"https://cdn.rawgit.com/quantopian/qgrid/72d356cb123fab413dba73ec46616e4916fbd827/qgrid/qgridjs//lib/slick.rowselectionmodel\",\n",
       "    slick_grid: \"https://cdn.rawgit.com/quantopian/qgrid/72d356cb123fab413dba73ec46616e4916fbd827/qgrid/qgridjs//lib/slick.grid.2.2\",\n",
       "    data_grid: \"https://cdn.rawgit.com/quantopian/qgrid/72d356cb123fab413dba73ec46616e4916fbd827/qgrid/qgridjs//qgrid\",\n",
       "    date_filter: \"https://cdn.rawgit.com/quantopian/qgrid/72d356cb123fab413dba73ec46616e4916fbd827/qgrid/qgridjs//qgrid.datefilter\",\n",
       "    slider_filter: \"https://cdn.rawgit.com/quantopian/qgrid/72d356cb123fab413dba73ec46616e4916fbd827/qgrid/qgridjs//qgrid.sliderfilter\",\n",
       "    text_filter: \"https://cdn.rawgit.com/quantopian/qgrid/72d356cb123fab413dba73ec46616e4916fbd827/qgrid/qgridjs//qgrid.textfilter\",\n",
       "    filter_base:  \"https://cdn.rawgit.com/quantopian/qgrid/72d356cb123fab413dba73ec46616e4916fbd827/qgrid/qgridjs//qgrid.filterbase\",\n",
       "    handlebars: \"https://cdnjs.cloudflare.com/ajax/libs/handlebars.js/2.0.0/handlebars.min\"\n",
       "};\n",
       "\n",
       "var existing_config = require.s.contexts._.config;\n",
       "if (!existing_config.paths['underscore']){\n",
       "    path_dictionary['underscore'] = \"https://cdnjs.cloudflare.com/ajax/libs/underscore.js/1.7.0/underscore-min\";\n",
       "}\n",
       "\n",
       "if (!existing_config.paths['moment']){\n",
       "    path_dictionary['moment'] = \"https://cdnjs.cloudflare.com/ajax/libs/moment.js/2.8.3/moment.min\";\n",
       "}\n",
       "\n",
       "if (!existing_config.paths['jqueryui']){\n",
       "    path_dictionary['jqueryui'] = \"https://ajax.googleapis.com/ajax/libs/jqueryui/1.11.1/jquery-ui.min\";\n",
       "}\n",
       "\n",
       "require.config({\n",
       "    paths: path_dictionary\n",
       "});\n",
       "\n",
       "if (typeof jQuery === 'function') {\n",
       "    define('jquery', function() { return jQuery; });\n",
       "}\n",
       "\n",
       "require([\n",
       "    'jquery',\n",
       "    'jquery_drag',\n",
       "    'slick_core',\n",
       "    'slick_data_view'\n",
       "],\n",
       "function($){\n",
       "    $('#135cd709-010a-44d1-802a-5001659eb48b').closest('.rendered_html').removeClass('rendered_html');\n",
       "    require([\n",
       "      'slick_check_box_column',\n",
       "      'slick_row_selection_model',\n",
       "      'slick_grid'\n",
       "    ], function(){\n",
       "        require([\"data_grid\"], function(dgrid){\n",
       "            var grid = new dgrid.QGrid('#135cd709-010a-44d1-802a-5001659eb48b', [{\"null\":0,\"0\":1.1753,\"1\":-0.428,\"2\":-0.6249,\"3\":0.8297,\"4\":1.0577,\"5\":-0.1362,\"6\":0.7842,\"7\":1.0591,\"8\":0.738,\"9\":-0.4211,\"10\":-2.9082,\"11\":2.0171,\"12\":1.0046,\"13\":-0.8356,\"14\":-1.6,\"15\":-1.7778,\"16\":0.4533,\"17\":0.1578,\"18\":-1.4735,\"19\":-0.6178,\"20\":0.9868,\"21\":0.7967,\"22\":1.0962,\"23\":0.2617,\"24\":-0.7682,\"25\":0.2932,\"26\":0.6694,\"27\":0.8806,\"28\":0.341,\"29\":1.7867,\"30\":0.0096,\"31\":-0.1808,\"32\":0.7828,\"33\":-1.4479,\"34\":0.9744,\"35\":0.0104,\"36\":-0.325,\"37\":0.2137,\"38\":-1.175,\"39\":-0.8921,\"40\":-0.7499,\"41\":0.8376,\"42\":0.4404,\"43\":-1.236,\"44\":1.0774,\"45\":0.8751,\"46\":-0.8363,\"47\":-0.6515,\"48\":0.1026,\"49\":-0.5856,\"50\":-0.0218,\"51\":-0.2778,\"52\":1.5966,\"53\":0.5934,\"54\":0.1122,\"55\":0.3968,\"56\":-1.0863,\"57\":1.1622,\"58\":-0.7924,\"59\":0.344,\"60\":-0.9757,\"61\":0.719,\"62\":0.4392,\"63\":2.1281,\"64\":-0.3042,\"65\":-0.0659,\"66\":0.5865,\"67\":0.1616,\"68\":0.7006,\"69\":-0.2149,\"70\":0.1767,\"71\":0.6613,\"72\":0.0765,\"73\":0.4714,\"74\":1.1968,\"75\":1.0835,\"76\":-0.7249,\"77\":-0.1488,\"78\":-0.4084,\"79\":0.571,\"80\":0.1929,\"81\":-0.8737,\"82\":-0.276,\"83\":-0.6653,\"84\":-0.4548,\"85\":-1.5221,\"86\":1.3341,\"87\":-1.518,\"88\":0.0211,\"89\":1.5361,\"90\":-1.4014,\"91\":0.5797,\"92\":1.5371,\"93\":0.785,\"94\":0.6101,\"95\":-0.5815,\"96\":-0.2482,\"97\":-3.0499,\"98\":0.5951,\"99\":-0.1258},{\"null\":1,\"0\":-0.6943,\"1\":-0.3434,\"2\":0.0568,\"3\":0.4214,\"4\":-1.1241,\"5\":0.7381,\"6\":0.4086,\"7\":0.7246,\"8\":0.3067,\"9\":0.6842,\"10\":1.976,\"11\":0.8197,\"12\":-0.1579,\"13\":-0.6662,\"14\":0.805,\"15\":-0.134,\"16\":-0.0449,\"17\":-0.7539,\"18\":-1.1243,\"19\":-0.2295,\"20\":-0.7775,\"21\":-0.6218,\"22\":-0.1504,\"23\":-1.7826,\"24\":-0.0913,\"25\":1.1343,\"26\":-2.8232,\"27\":-0.0633,\"28\":-0.9331,\"29\":-0.3987,\"30\":-1.4272,\"31\":-0.7706,\"32\":1.1126,\"33\":-0.2198,\"34\":-0.5606,\"35\":0.0738,\"36\":1.0265,\"37\":-1.1095,\"38\":0.6914,\"39\":2.3159,\"40\":1.3807,\"41\":-0.0434,\"42\":-0.3773,\"43\":0.5205,\"44\":-0.2054,\"45\":-1.3372,\"46\":-1.3208,\"47\":-1.0457,\"48\":-0.023,\"49\":-0.1223,\"50\":-0.5066,\"51\":0.152,\"52\":1.318,\"53\":-1.3054,\"54\":0.7705,\"55\":-1.9545,\"56\":1.1302,\"57\":-0.0883,\"58\":-0.8041,\"59\":-0.0705,\"60\":-0.0349,\"61\":-0.0926,\"62\":1.0668,\"63\":1.5334,\"64\":0.1132,\"65\":0.1026,\"66\":-0.2809,\"67\":1.1025,\"68\":0.4832,\"69\":0.1377,\"70\":-0.9352,\"71\":0.922,\"72\":-0.5774,\"73\":-1.0269,\"74\":1.3177,\"75\":-0.1356,\"76\":-0.7625,\"77\":0.0999,\"78\":-0.1445,\"79\":-0.0904,\"80\":-1.7049,\"81\":-0.2619,\"82\":1.2123,\"83\":-1.3156,\"84\":-0.1583,\"85\":0.2224,\"86\":0.29,\"87\":-1.903,\"88\":-0.0933,\"89\":1.2055,\"90\":-0.0381,\"91\":1.4006,\"92\":-0.9543,\"93\":0.4224,\"94\":-0.8381,\"95\":-0.6761,\"96\":0.7201,\"97\":0.6527,\"98\":2.8113,\"99\":-0.4963},{\"null\":2,\"0\":-0.323,\"1\":0.3489,\"2\":0.0434,\"3\":0.8439,\"4\":-0.771,\"5\":-0.5087,\"6\":0.0245,\"7\":0.4865,\"8\":-0.333,\"9\":-0.0796,\"10\":-0.6888,\"11\":1.2175,\"12\":0.7706,\"13\":-0.5797,\"14\":0.076,\"15\":-2.1782,\"16\":0.1998,\"17\":0.2587,\"18\":-0.0074,\"19\":-0.4525,\"20\":0.3816,\"21\":-2.1099,\"22\":0.2401,\"23\":1.5745,\"24\":-0.7747,\"25\":1.2221,\"26\":-0.1823,\"27\":0.8003,\"28\":-0.5275,\"29\":0.9763,\"30\":0.8726,\"31\":0.8058,\"32\":2.0988,\"33\":0.8843,\"34\":0.319,\"35\":-1.1194,\"36\":1.0037,\"37\":0.3361,\"38\":0.4518,\"39\":-1.6485,\"40\":0.7337,\"41\":3.5446,\"42\":0.1637,\"43\":1.2475,\"44\":-0.2443,\"45\":2.3892,\"46\":0.3826,\"47\":0.4913,\"48\":-0.9285,\"49\":0.3409,\"50\":1.54,\"51\":0.5855,\"52\":0.1561,\"53\":-1.4935,\"54\":0.2506,\"55\":0.1629,\"56\":-1.2416,\"57\":-0.5357,\"58\":0.3869,\"59\":-0.6139,\"60\":0.3088,\"61\":1.0488,\"62\":0.8714,\"63\":-0.7334,\"64\":0.7816,\"65\":-0.0167,\"66\":1.0762,\"67\":0.2922,\"68\":0.3456,\"69\":0.8307,\"70\":0.7535,\"71\":-2.3702,\"72\":-1.3801,\"73\":0.1063,\"74\":-0.8952,\"75\":-1.5188,\"76\":-0.4962,\"77\":0.4648,\"78\":0.5073,\"79\":-0.1256,\"80\":-0.8785,\"81\":-1.5121,\"82\":0.0271,\"83\":-1.0372,\"84\":0.1075,\"85\":-0.3964,\"86\":-1.5653,\"87\":-0.1932,\"88\":0.8696,\"89\":-0.6395,\"90\":0.0157,\"91\":0.0568,\"92\":1.5942,\"93\":-1.2169,\"94\":-0.058,\"95\":-0.6871,\"96\":0.8371,\"97\":0.8639,\"98\":0.8754,\"99\":-1.1663}], [{\"type\": \"Integer\", \"field\": null}, {\"type\": \"Float\", \"field\": 0}, {\"type\": \"Float\", \"field\": 1}, {\"type\": \"Float\", \"field\": 2}, {\"type\": \"Float\", \"field\": 3}, {\"type\": \"Float\", \"field\": 4}, {\"type\": \"Float\", \"field\": 5}, {\"type\": \"Float\", \"field\": 6}, {\"type\": \"Float\", \"field\": 7}, {\"type\": \"Float\", \"field\": 8}, {\"type\": \"Float\", \"field\": 9}, {\"type\": \"Float\", \"field\": 10}, {\"type\": \"Float\", \"field\": 11}, {\"type\": \"Float\", \"field\": 12}, {\"type\": \"Float\", \"field\": 13}, {\"type\": \"Float\", \"field\": 14}, {\"type\": \"Float\", \"field\": 15}, {\"type\": \"Float\", \"field\": 16}, {\"type\": \"Float\", \"field\": 17}, {\"type\": \"Float\", \"field\": 18}, {\"type\": \"Float\", \"field\": 19}, {\"type\": \"Float\", \"field\": 20}, {\"type\": \"Float\", \"field\": 21}, {\"type\": \"Float\", \"field\": 22}, {\"type\": \"Float\", \"field\": 23}, {\"type\": \"Float\", \"field\": 24}, {\"type\": \"Float\", \"field\": 25}, {\"type\": \"Float\", \"field\": 26}, {\"type\": \"Float\", \"field\": 27}, {\"type\": \"Float\", \"field\": 28}, {\"type\": \"Float\", \"field\": 29}, {\"type\": \"Float\", \"field\": 30}, {\"type\": \"Float\", \"field\": 31}, {\"type\": \"Float\", \"field\": 32}, {\"type\": \"Float\", \"field\": 33}, {\"type\": \"Float\", \"field\": 34}, {\"type\": \"Float\", \"field\": 35}, {\"type\": \"Float\", \"field\": 36}, {\"type\": \"Float\", \"field\": 37}, {\"type\": \"Float\", \"field\": 38}, {\"type\": \"Float\", \"field\": 39}, {\"type\": \"Float\", \"field\": 40}, {\"type\": \"Float\", \"field\": 41}, {\"type\": \"Float\", \"field\": 42}, {\"type\": \"Float\", \"field\": 43}, {\"type\": \"Float\", \"field\": 44}, {\"type\": \"Float\", \"field\": 45}, {\"type\": \"Float\", \"field\": 46}, {\"type\": \"Float\", \"field\": 47}, {\"type\": \"Float\", \"field\": 48}, {\"type\": \"Float\", \"field\": 49}, {\"type\": \"Float\", \"field\": 50}, {\"type\": \"Float\", \"field\": 51}, {\"type\": \"Float\", \"field\": 52}, {\"type\": \"Float\", \"field\": 53}, {\"type\": \"Float\", \"field\": 54}, {\"type\": \"Float\", \"field\": 55}, {\"type\": \"Float\", \"field\": 56}, {\"type\": \"Float\", \"field\": 57}, {\"type\": \"Float\", \"field\": 58}, {\"type\": \"Float\", \"field\": 59}, {\"type\": \"Float\", \"field\": 60}, {\"type\": \"Float\", \"field\": 61}, {\"type\": \"Float\", \"field\": 62}, {\"type\": \"Float\", \"field\": 63}, {\"type\": \"Float\", \"field\": 64}, {\"type\": \"Float\", \"field\": 65}, {\"type\": \"Float\", \"field\": 66}, {\"type\": \"Float\", \"field\": 67}, {\"type\": \"Float\", \"field\": 68}, {\"type\": \"Float\", \"field\": 69}, {\"type\": \"Float\", \"field\": 70}, {\"type\": \"Float\", \"field\": 71}, {\"type\": \"Float\", \"field\": 72}, {\"type\": \"Float\", \"field\": 73}, {\"type\": \"Float\", \"field\": 74}, {\"type\": \"Float\", \"field\": 75}, {\"type\": \"Float\", \"field\": 76}, {\"type\": \"Float\", \"field\": 77}, {\"type\": \"Float\", \"field\": 78}, {\"type\": \"Float\", \"field\": 79}, {\"type\": \"Float\", \"field\": 80}, {\"type\": \"Float\", \"field\": 81}, {\"type\": \"Float\", \"field\": 82}, {\"type\": \"Float\", \"field\": 83}, {\"type\": \"Float\", \"field\": 84}, {\"type\": \"Float\", \"field\": 85}, {\"type\": \"Float\", \"field\": 86}, {\"type\": \"Float\", \"field\": 87}, {\"type\": \"Float\", \"field\": 88}, {\"type\": \"Float\", \"field\": 89}, {\"type\": \"Float\", \"field\": 90}, {\"type\": \"Float\", \"field\": 91}, {\"type\": \"Float\", \"field\": 92}, {\"type\": \"Float\", \"field\": 93}, {\"type\": \"Float\", \"field\": 94}, {\"type\": \"Float\", \"field\": 95}, {\"type\": \"Float\", \"field\": 96}, {\"type\": \"Float\", \"field\": 97}, {\"type\": \"Float\", \"field\": 98}, {\"type\": \"Float\", \"field\": 99}]);\n",
       "            grid.initialize_slick_grid({\"enableColumnReorder\": false, \"syncColumnCellResize\": true, \"forceFitColumns\": true, \"rowHeight\": 28, \"enableTextSelectionOnCells\": true, \"fullWidthRows\": true});\n",
       "        });\n",
       "    });\n",
       "});\n"
      ]
     },
     "metadata": {},
     "output_type": "display_data"
    }
   ],
   "source": [
    "qgrid.show_grid(df.loc[-10:].transpose())"
   ]
  },
  {
   "cell_type": "code",
   "execution_count": null,
   "metadata": {
    "collapsed": true
   },
   "outputs": [],
   "source": []
  },
  {
   "cell_type": "code",
   "execution_count": null,
   "metadata": {
    "collapsed": true
   },
   "outputs": [],
   "source": []
  }
 ],
 "metadata": {
  "celltoolbar": "nbpresent",
  "kernelspec": {
   "display_name": "Python 3",
   "language": "python",
   "name": "python3"
  },
  "language_info": {
   "codemirror_mode": {
    "name": "ipython",
    "version": 3
   },
   "file_extension": ".py",
   "mimetype": "text/x-python",
   "name": "python",
   "nbconvert_exporter": "python",
   "pygments_lexer": "ipython3",
   "version": "3.5.0"
  },
  "nbpresent": {
   "slides": {
    "19890452-c65a-4d7f-8ce8-a60ea0547dd2": {
     "id": "19890452-c65a-4d7f-8ce8-a60ea0547dd2",
     "prev": "539d39df-6c3e-43c4-8bb3-93afb9c21bd9",
     "regions": {
      "3b5a381b-8180-4d21-8f77-13c964dc41a1": {
       "content": {
        "cell": "6dd75bcd-39e8-4254-a6c8-bbdf55498c5b",
        "part": "outputs"
       },
       "height": 0.4096551724137933,
       "id": "3b5a381b-8180-4d21-8f77-13c964dc41a1",
       "width": 0.702241379310345,
       "x": 0.1977586206896551,
       "y": 0.5579310344827584
      },
      "4ef05e93-d197-4f0e-875c-7d1fc31ec9b9": {
       "content": {
        "cell": "6eed45f4-52ca-4107-91a1-22279a469b1e",
        "part": "source"
       },
       "height": 0.12965517241379335,
       "id": "4ef05e93-d197-4f0e-875c-7d1fc31ec9b9",
       "width": 0.2142241379310344,
       "x": 0.05344825218463774,
       "y": 0.4255172413793108
      },
      "ce38bda3-3b5c-4e43-be24-f03775f197bb": {
       "content": {
        "cell": "be1d7bc2-a416-4739-8b9a-e3d9486b73c1",
        "part": "outputs"
       },
       "height": 0.5172413793103453,
       "id": "ce38bda3-3b5c-4e43-be24-f03775f197bb",
       "width": 0.702241379310345,
       "x": 0.19775862068965505,
       "y": 0.011724137931034476
      }
     }
    },
    "539d39df-6c3e-43c4-8bb3-93afb9c21bd9": {
     "id": "539d39df-6c3e-43c4-8bb3-93afb9c21bd9",
     "prev": null,
     "regions": {
      "ab0cd843-1fe3-4238-9c9e-467d5a688507": {
       "content": {
        "cell": "738c9c60-4e56-4357-b895-3e89a7e4cd04",
        "part": "widgets"
       },
       "height": 0.27862068965517256,
       "id": "ab0cd843-1fe3-4238-9c9e-467d5a688507",
       "width": 0.47181036850501734,
       "x": 0.513534506436052,
       "y": 0.695862068965517
      },
      "b423700c-873a-4138-8305-1afabf13d1a2": {
       "content": {
        "cell": "738c9c60-4e56-4357-b895-3e89a7e4cd04",
        "part": "outputs"
       },
       "height": 0.6427586206896546,
       "id": "b423700c-873a-4138-8305-1afabf13d1a2",
       "width": 0.965258620689655,
       "x": 0.017758620689655356,
       "y": 0.02275862068965518
      },
      "e052e7db-b86b-4ce2-b8dd-c7acbb78f4e5": {
       "content": {
        "cell": "738c9c60-4e56-4357-b895-3e89a7e4cd04",
        "part": "source"
       },
       "height": 0.28137931034482727,
       "id": "e052e7db-b86b-4ce2-b8dd-c7acbb78f4e5",
       "width": 0.4601724137931037,
       "x": 0.016982758620689754,
       "y": 0.6931034482758623
      }
     }
    }
   }
  }
 },
 "nbformat": 4,
 "nbformat_minor": 0
}
