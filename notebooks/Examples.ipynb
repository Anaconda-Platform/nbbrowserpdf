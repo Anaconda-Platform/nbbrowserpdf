{
 "cells": [
  {
   "cell_type": "code",
   "execution_count": 41,
   "metadata": {
    "collapsed": false
   },
   "outputs": [],
   "source": [
    "from ipywidgets import widgets\n",
    "import numpy as np  \n",
    "import matplotlib.pyplot as plt\n",
    "import pandas\n",
    "import qgrid\n",
    "qgrid.nbinstall(overwrite=True)\n",
    "qgrid.set_defaults(remote_js=True, precision=4)"
   ]
  },
  {
   "cell_type": "code",
   "execution_count": 34,
   "metadata": {
    "collapsed": true
   },
   "outputs": [],
   "source": [
    "%matplotlib inline"
   ]
  },
  {
   "cell_type": "code",
   "execution_count": 35,
   "metadata": {
    "collapsed": false,
    "nbpresent": {
     "id": "738c9c60-4e56-4357-b895-3e89a7e4cd04"
    }
   },
   "outputs": [
    {
     "data": {
      "image/png": "[encoded data removed]",
      "text/plain": [
       "<matplotlib.figure.Figure at 0x7f33cf5cca58>"
      ]
     },
     "metadata": {},
     "output_type": "display_data"
    }
   ],
   "source": [
    "@widgets.interact\n",
    "def graph(x=10, y=2):\n",
    "    x = np.array(range(x))\n",
    "    y = x ** y\n",
    "    plt.plot(x, y) \n",
    "    plt.show()"
   ]
  },
  {
   "cell_type": "code",
   "execution_count": 36,
   "metadata": {
    "collapsed": false,
    "nbpresent": {
     "id": "6eed45f4-52ca-4107-91a1-22279a469b1e"
    },
    "scrolled": true
   },
   "outputs": [],
   "source": [
    "df = pandas.DataFrame(\n",
    "    np.random.randn(100, 3)\n",
    ")"
   ]
  },
  {
   "cell_type": "code",
   "execution_count": 42,
   "metadata": {
    "collapsed": false,
    "nbpresent": {
     "id": "be1d7bc2-a416-4739-8b9a-e3d9486b73c1"
    }
   },
   "outputs": [
    {
     "data": {
      "text/html": [
       "<script type=\"text/javascript\">\n",
       "if ($(\"#dg-css\").length == 0){\n",
       "    $(\"head\").append([\n",
       "        \"<link href='https://cdn.rawgit.com/quantopian/qgrid/72d356cb123fab413dba73ec46616e4916fbd827/qgrid/qgridjs//lib/slick.grid.css' rel='stylesheet'>\",\n",
       "        \"<link href='https://cdn.rawgit.com/quantopian/qgrid/72d356cb123fab413dba73ec46616e4916fbd827/qgrid/qgridjs//lib/slick-default-theme.css' rel='stylesheet'>\",\n",
       "        \"<link href='http://cdnjs.cloudflare.com/ajax/libs/jqueryui/1.10.4/css/jquery-ui.min.css' rel='stylesheet'>\",\n",
       "        \"<link id='dg-css' href='https://cdn.rawgit.com/quantopian/qgrid/72d356cb123fab413dba73ec46616e4916fbd827/qgrid/qgridjs//qgrid.css' rel='stylesheet'>\"\n",
       "    ]);\n",
       "}\n",
       "</script>\n",
       "<div class='q-grid-container'>\n",
       "<div id='39cfd412-2345-4e3f-84ce-d1b2f80f96e9' class='q-grid'></div>\n",
       "</div>"
      ]
     },
     "metadata": {},
     "output_type": "display_data"
    },
    {
     "data": {
      "application/javascript": [
       "var path_dictionary = {\n",
       "    jquery_drag: \"https://cdn.rawgit.com/quantopian/qgrid/72d356cb123fab413dba73ec46616e4916fbd827/qgrid/qgridjs//lib/jquery.event.drag-2.2\",\n",
       "    slick_core: \"https://cdn.rawgit.com/quantopian/qgrid/72d356cb123fab413dba73ec46616e4916fbd827/qgrid/qgridjs//lib/slick.core.2.2\",\n",
       "    slick_data_view: \"https://cdn.rawgit.com/quantopian/qgrid/72d356cb123fab413dba73ec46616e4916fbd827/qgrid/qgridjs//lib/slick.dataview.2.2\",\n",
       "    slick_check_box_column: \"https://cdn.rawgit.com/quantopian/qgrid/72d356cb123fab413dba73ec46616e4916fbd827/qgrid/qgridjs//lib/slick.checkboxselectcolumn\",\n",
       "    slick_row_selection_model: \"https://cdn.rawgit.com/quantopian/qgrid/72d356cb123fab413dba73ec46616e4916fbd827/qgrid/qgridjs//lib/slick.rowselectionmodel\",\n",
       "    slick_grid: \"https://cdn.rawgit.com/quantopian/qgrid/72d356cb123fab413dba73ec46616e4916fbd827/qgrid/qgridjs//lib/slick.grid.2.2\",\n",
       "    data_grid: \"https://cdn.rawgit.com/quantopian/qgrid/72d356cb123fab413dba73ec46616e4916fbd827/qgrid/qgridjs//qgrid\",\n",
       "    date_filter: \"https://cdn.rawgit.com/quantopian/qgrid/72d356cb123fab413dba73ec46616e4916fbd827/qgrid/qgridjs//qgrid.datefilter\",\n",
       "    slider_filter: \"https://cdn.rawgit.com/quantopian/qgrid/72d356cb123fab413dba73ec46616e4916fbd827/qgrid/qgridjs//qgrid.sliderfilter\",\n",
       "    text_filter: \"https://cdn.rawgit.com/quantopian/qgrid/72d356cb123fab413dba73ec46616e4916fbd827/qgrid/qgridjs//qgrid.textfilter\",\n",
       "    filter_base:  \"https://cdn.rawgit.com/quantopian/qgrid/72d356cb123fab413dba73ec46616e4916fbd827/qgrid/qgridjs//qgrid.filterbase\",\n",
       "    handlebars: \"https://cdnjs.cloudflare.com/ajax/libs/handlebars.js/2.0.0/handlebars.min\"\n",
       "};\n",
       "\n",
       "var existing_config = require.s.contexts._.config;\n",
       "if (!existing_config.paths['underscore']){\n",
       "    path_dictionary['underscore'] = \"https://cdnjs.cloudflare.com/ajax/libs/underscore.js/1.7.0/underscore-min\";\n",
       "}\n",
       "\n",
       "if (!existing_config.paths['moment']){\n",
       "    path_dictionary['moment'] = \"https://cdnjs.cloudflare.com/ajax/libs/moment.js/2.8.3/moment.min\";\n",
       "}\n",
       "\n",
       "if (!existing_config.paths['jqueryui']){\n",
       "    path_dictionary['jqueryui'] = \"https://ajax.googleapis.com/ajax/libs/jqueryui/1.11.1/jquery-ui.min\";\n",
       "}\n",
       "\n",
       "require.config({\n",
       "    paths: path_dictionary\n",
       "});\n",
       "\n",
       "if (typeof jQuery === 'function') {\n",
       "    define('jquery', function() { return jQuery; });\n",
       "}\n",
       "\n",
       "require([\n",
       "    'jquery',\n",
       "    'jquery_drag',\n",
       "    'slick_core',\n",
       "    'slick_data_view'\n",
       "],\n",
       "function($){\n",
       "    $('#39cfd412-2345-4e3f-84ce-d1b2f80f96e9').closest('.rendered_html').removeClass('rendered_html');\n",
       "    require([\n",
       "      'slick_check_box_column',\n",
       "      'slick_row_selection_model',\n",
       "      'slick_grid'\n",
       "    ], function(){\n",
       "        require([\"data_grid\"], function(dgrid){\n",
       "            var grid = new dgrid.QGrid('#39cfd412-2345-4e3f-84ce-d1b2f80f96e9', [{\"null\":0,\"0\":-0.6593,\"1\":-0.1813,\"2\":-0.7712,\"3\":-0.9056,\"4\":-0.245,\"5\":1.157,\"6\":-0.3018,\"7\":0.1142,\"8\":0.4499,\"9\":0.0517,\"10\":-0.6143},{\"null\":1,\"0\":-0.8751,\"1\":2.0682,\"2\":0.6032,\"3\":-0.2681,\"4\":-1.4112,\"5\":-0.7997,\"6\":0.6082,\"7\":-0.0105,\"8\":0.763,\"9\":1.5106,\"10\":0.4623},{\"null\":2,\"0\":-0.9083,\"1\":0.136,\"2\":-0.231,\"3\":-0.638,\"4\":-0.5154,\"5\":0.2855,\"6\":-1.4002,\"7\":0.6945,\"8\":0.4872,\"9\":1.6857,\"10\":2.1474}], [{\"type\": \"Integer\", \"field\": null}, {\"type\": \"Float\", \"field\": 0}, {\"type\": \"Float\", \"field\": 1}, {\"type\": \"Float\", \"field\": 2}, {\"type\": \"Float\", \"field\": 3}, {\"type\": \"Float\", \"field\": 4}, {\"type\": \"Float\", \"field\": 5}, {\"type\": \"Float\", \"field\": 6}, {\"type\": \"Float\", \"field\": 7}, {\"type\": \"Float\", \"field\": 8}, {\"type\": \"Float\", \"field\": 9}, {\"type\": \"Float\", \"field\": 10}]);\n",
       "            grid.initialize_slick_grid({\"enableColumnReorder\": false, \"syncColumnCellResize\": true, \"forceFitColumns\": true, \"rowHeight\": 28, \"enableTextSelectionOnCells\": true, \"fullWidthRows\": true});\n",
       "        });\n",
       "    });\n",
       "});\n"
      ]
     },
     "metadata": {},
     "output_type": "display_data"
    }
   ],
   "source": [
    "qgrid.show_grid(df.loc[:10].transpose())"
   ]
  },
  {
   "cell_type": "code",
   "execution_count": 43,
   "metadata": {
    "collapsed": false,
    "nbpresent": {
     "id": "6dd75bcd-39e8-4254-a6c8-bbdf55498c5b"
    }
   },
   "outputs": [
    {
     "data": {
      "text/html": [
       "<script type=\"text/javascript\">\n",
       "if ($(\"#dg-css\").length == 0){\n",
       "    $(\"head\").append([\n",
       "        \"<link href='https://cdn.rawgit.com/quantopian/qgrid/72d356cb123fab413dba73ec46616e4916fbd827/qgrid/qgridjs//lib/slick.grid.css' rel='stylesheet'>\",\n",
       "        \"<link href='https://cdn.rawgit.com/quantopian/qgrid/72d356cb123fab413dba73ec46616e4916fbd827/qgrid/qgridjs//lib/slick-default-theme.css' rel='stylesheet'>\",\n",
       "        \"<link href='http://cdnjs.cloudflare.com/ajax/libs/jqueryui/1.10.4/css/jquery-ui.min.css' rel='stylesheet'>\",\n",
       "        \"<link id='dg-css' href='https://cdn.rawgit.com/quantopian/qgrid/72d356cb123fab413dba73ec46616e4916fbd827/qgrid/qgridjs//qgrid.css' rel='stylesheet'>\"\n",
       "    ]);\n",
       "}\n",
       "</script>\n",
       "<div class='q-grid-container'>\n",
       "<div id='df079dcc-5ce7-4b21-beb3-637a41a8c530' class='q-grid'></div>\n",
       "</div>"
      ]
     },
     "metadata": {},
     "output_type": "display_data"
    },
    {
     "data": {
      "application/javascript": [
       "var path_dictionary = {\n",
       "    jquery_drag: \"https://cdn.rawgit.com/quantopian/qgrid/72d356cb123fab413dba73ec46616e4916fbd827/qgrid/qgridjs//lib/jquery.event.drag-2.2\",\n",
       "    slick_core: \"https://cdn.rawgit.com/quantopian/qgrid/72d356cb123fab413dba73ec46616e4916fbd827/qgrid/qgridjs//lib/slick.core.2.2\",\n",
       "    slick_data_view: \"https://cdn.rawgit.com/quantopian/qgrid/72d356cb123fab413dba73ec46616e4916fbd827/qgrid/qgridjs//lib/slick.dataview.2.2\",\n",
       "    slick_check_box_column: \"https://cdn.rawgit.com/quantopian/qgrid/72d356cb123fab413dba73ec46616e4916fbd827/qgrid/qgridjs//lib/slick.checkboxselectcolumn\",\n",
       "    slick_row_selection_model: \"https://cdn.rawgit.com/quantopian/qgrid/72d356cb123fab413dba73ec46616e4916fbd827/qgrid/qgridjs//lib/slick.rowselectionmodel\",\n",
       "    slick_grid: \"https://cdn.rawgit.com/quantopian/qgrid/72d356cb123fab413dba73ec46616e4916fbd827/qgrid/qgridjs//lib/slick.grid.2.2\",\n",
       "    data_grid: \"https://cdn.rawgit.com/quantopian/qgrid/72d356cb123fab413dba73ec46616e4916fbd827/qgrid/qgridjs//qgrid\",\n",
       "    date_filter: \"https://cdn.rawgit.com/quantopian/qgrid/72d356cb123fab413dba73ec46616e4916fbd827/qgrid/qgridjs//qgrid.datefilter\",\n",
       "    slider_filter: \"https://cdn.rawgit.com/quantopian/qgrid/72d356cb123fab413dba73ec46616e4916fbd827/qgrid/qgridjs//qgrid.sliderfilter\",\n",
       "    text_filter: \"https://cdn.rawgit.com/quantopian/qgrid/72d356cb123fab413dba73ec46616e4916fbd827/qgrid/qgridjs//qgrid.textfilter\",\n",
       "    filter_base:  \"https://cdn.rawgit.com/quantopian/qgrid/72d356cb123fab413dba73ec46616e4916fbd827/qgrid/qgridjs//qgrid.filterbase\",\n",
       "    handlebars: \"https://cdnjs.cloudflare.com/ajax/libs/handlebars.js/2.0.0/handlebars.min\"\n",
       "};\n",
       "\n",
       "var existing_config = require.s.contexts._.config;\n",
       "if (!existing_config.paths['underscore']){\n",
       "    path_dictionary['underscore'] = \"https://cdnjs.cloudflare.com/ajax/libs/underscore.js/1.7.0/underscore-min\";\n",
       "}\n",
       "\n",
       "if (!existing_config.paths['moment']){\n",
       "    path_dictionary['moment'] = \"https://cdnjs.cloudflare.com/ajax/libs/moment.js/2.8.3/moment.min\";\n",
       "}\n",
       "\n",
       "if (!existing_config.paths['jqueryui']){\n",
       "    path_dictionary['jqueryui'] = \"https://ajax.googleapis.com/ajax/libs/jqueryui/1.11.1/jquery-ui.min\";\n",
       "}\n",
       "\n",
       "require.config({\n",
       "    paths: path_dictionary\n",
       "});\n",
       "\n",
       "if (typeof jQuery === 'function') {\n",
       "    define('jquery', function() { return jQuery; });\n",
       "}\n",
       "\n",
       "require([\n",
       "    'jquery',\n",
       "    'jquery_drag',\n",
       "    'slick_core',\n",
       "    'slick_data_view'\n",
       "],\n",
       "function($){\n",
       "    $('#df079dcc-5ce7-4b21-beb3-637a41a8c530').closest('.rendered_html').removeClass('rendered_html');\n",
       "    require([\n",
       "      'slick_check_box_column',\n",
       "      'slick_row_selection_model',\n",
       "      'slick_grid'\n",
       "    ], function(){\n",
       "        require([\"data_grid\"], function(dgrid){\n",
       "            var grid = new dgrid.QGrid('#df079dcc-5ce7-4b21-beb3-637a41a8c530', [{\"null\":0,\"0\":-0.6593,\"1\":-0.1813,\"2\":-0.7712,\"3\":-0.9056,\"4\":-0.245,\"5\":1.157,\"6\":-0.3018,\"7\":0.1142,\"8\":0.4499,\"9\":0.0517,\"10\":-0.6143,\"11\":1.5639,\"12\":-0.1759,\"13\":0.188,\"14\":-0.4296,\"15\":0.1051,\"16\":1.3521,\"17\":1.536,\"18\":-0.0753,\"19\":0.1293,\"20\":0.0064,\"21\":-0.4047,\"22\":-0.4815,\"23\":0.5753,\"24\":-0.0682,\"25\":-1.3009,\"26\":1.0793,\"27\":0.4166,\"28\":-1.1085,\"29\":1.0625,\"30\":0.5775,\"31\":-1.0664,\"32\":1.432,\"33\":0.4107,\"34\":0.3287,\"35\":0.018,\"36\":-0.83,\"37\":-0.4089,\"38\":1.4361,\"39\":-0.0708,\"40\":0.0355,\"41\":1.9584,\"42\":-0.1204,\"43\":1.5653,\"44\":-0.2567,\"45\":1.1547,\"46\":-0.0882,\"47\":-0.485,\"48\":-0.9339,\"49\":-0.5529,\"50\":2.2639,\"51\":-0.994,\"52\":-1.7665,\"53\":1.0555,\"54\":0.1424,\"55\":-0.0878,\"56\":0.6124,\"57\":-0.1635,\"58\":-0.3585,\"59\":-0.5118,\"60\":-0.4058,\"61\":0.509,\"62\":-0.8282,\"63\":1.9213,\"64\":-2.0763,\"65\":0.5002,\"66\":1.3685,\"67\":0.4562,\"68\":-1.1236,\"69\":0.2065,\"70\":0.86,\"71\":-0.8257,\"72\":-1.2078,\"73\":-0.2407,\"74\":-0.1242,\"75\":1.3996,\"76\":0.7989,\"77\":1.0861,\"78\":-0.2495,\"79\":1.4294,\"80\":0.2636,\"81\":0.0478,\"82\":1.2935,\"83\":0.8122,\"84\":1.3065,\"85\":1.1029,\"86\":-0.4539,\"87\":1.4304,\"88\":1.2298,\"89\":0.0177,\"90\":0.357,\"91\":0.6826,\"92\":-0.1393,\"93\":0.1081,\"94\":0.7733,\"95\":0.2423,\"96\":1.168,\"97\":0.0727,\"98\":1.457,\"99\":0.568},{\"null\":1,\"0\":-0.8751,\"1\":2.0682,\"2\":0.6032,\"3\":-0.2681,\"4\":-1.4112,\"5\":-0.7997,\"6\":0.6082,\"7\":-0.0105,\"8\":0.763,\"9\":1.5106,\"10\":0.4623,\"11\":0.4906,\"12\":-1.519,\"13\":-1.6333,\"14\":1.2875,\"15\":1.7292,\"16\":0.8661,\"17\":0.7496,\"18\":-0.9173,\"19\":-0.8694,\"20\":0.0987,\"21\":-0.7962,\"22\":0.0761,\"23\":0.3689,\"24\":0.6272,\"25\":0.0477,\"26\":0.5018,\"27\":-0.0567,\"28\":-0.3712,\"29\":1.2135,\"30\":0.3875,\"31\":-0.5945,\"32\":0.0017,\"33\":-0.2275,\"34\":0.961,\"35\":2.0298,\"36\":-0.8696,\"37\":-0.0456,\"38\":1.6198,\"39\":2.0867,\"40\":0.9832,\"41\":-0.0362,\"42\":-0.8759,\"43\":2.1599,\"44\":0.3946,\"45\":1.8122,\"46\":-3.3837,\"47\":0.633,\"48\":-0.8099,\"49\":0.6601,\"50\":-0.0896,\"51\":1.2395,\"52\":0.079,\"53\":0.3414,\"54\":-1.4161,\"55\":0.7226,\"56\":0.4373,\"57\":-0.709,\"58\":0.3261,\"59\":0.2467,\"60\":-1.1116,\"61\":-0.6017,\"62\":-1.1062,\"63\":0.0295,\"64\":-1.4027,\"65\":-3.204,\"66\":0.1303,\"67\":1.2502,\"68\":-1.4329,\"69\":-0.1819,\"70\":0.0214,\"71\":-0.7061,\"72\":2.1989,\"73\":-1.2885,\"74\":0.0971,\"75\":0.964,\"76\":0.7691,\"77\":-0.5455,\"78\":1.4295,\"79\":-0.4884,\"80\":0.3492,\"81\":0.7187,\"82\":-1.0473,\"83\":0.016,\"84\":-1.1239,\"85\":-1.5502,\"86\":-1.2352,\"87\":-0.9828,\"88\":0.1978,\"89\":-0.0138,\"90\":1.1129,\"91\":-0.0416,\"92\":-0.964,\"93\":-0.4717,\"94\":1.5033,\"95\":0.4019,\"96\":0.5182,\"97\":0.0557,\"98\":-0.2772,\"99\":-1.0343},{\"null\":2,\"0\":-0.9083,\"1\":0.136,\"2\":-0.231,\"3\":-0.638,\"4\":-0.5154,\"5\":0.2855,\"6\":-1.4002,\"7\":0.6945,\"8\":0.4872,\"9\":1.6857,\"10\":2.1474,\"11\":-0.3162,\"12\":1.7821,\"13\":-0.1229,\"14\":-0.7127,\"15\":-2.0807,\"16\":0.2539,\"17\":-1.0203,\"18\":-0.8218,\"19\":-0.1395,\"20\":-0.6356,\"21\":1.2913,\"22\":-0.1886,\"23\":-0.6803,\"24\":-0.7162,\"25\":0.3397,\"26\":1.7787,\"27\":-0.8602,\"28\":-2.6637,\"29\":-0.9112,\"30\":0.863,\"31\":0.5376,\"32\":-0.5036,\"33\":-0.2279,\"34\":1.4342,\"35\":0.1455,\"36\":-0.2,\"37\":0.9809,\"38\":2.633,\"39\":0.5002,\"40\":0.6941,\"41\":-0.3454,\"42\":0.4181,\"43\":-0.973,\"44\":0.3452,\"45\":-0.5078,\"46\":0.1354,\"47\":-1.1551,\"48\":-1.2041,\"49\":-0.7192,\"50\":-1.291,\"51\":-0.0827,\"52\":0.0143,\"53\":-1.0045,\"54\":1.9788,\"55\":-1.9564,\"56\":-0.9091,\"57\":1.9558,\"58\":0.0548,\"59\":-1.56,\"60\":-0.4574,\"61\":-0.6354,\"62\":-1.678,\"63\":1.0242,\"64\":1.8977,\"65\":1.2092,\"66\":0.6402,\"67\":0.255,\"68\":0.1491,\"69\":0.414,\"70\":1.1198,\"71\":-1.0259,\"72\":2.0704,\"73\":-0.4798,\"74\":-0.5523,\"75\":-0.9033,\"76\":1.1016,\"77\":0.162,\"78\":-0.6636,\"79\":1.055,\"80\":0.6213,\"81\":-0.7847,\"82\":0.8444,\"83\":-1.2657,\"84\":0.4486,\"85\":-0.3731,\"86\":0.0266,\"87\":0.8724,\"88\":0.1075,\"89\":0.4629,\"90\":-1.3471,\"91\":1.205,\"92\":0.9042,\"93\":1.3294,\"94\":1.2498,\"95\":-0.5235,\"96\":-0.2241,\"97\":1.5067,\"98\":0.6653,\"99\":-1.1466}], [{\"type\": \"Integer\", \"field\": null}, {\"type\": \"Float\", \"field\": 0}, {\"type\": \"Float\", \"field\": 1}, {\"type\": \"Float\", \"field\": 2}, {\"type\": \"Float\", \"field\": 3}, {\"type\": \"Float\", \"field\": 4}, {\"type\": \"Float\", \"field\": 5}, {\"type\": \"Float\", \"field\": 6}, {\"type\": \"Float\", \"field\": 7}, {\"type\": \"Float\", \"field\": 8}, {\"type\": \"Float\", \"field\": 9}, {\"type\": \"Float\", \"field\": 10}, {\"type\": \"Float\", \"field\": 11}, {\"type\": \"Float\", \"field\": 12}, {\"type\": \"Float\", \"field\": 13}, {\"type\": \"Float\", \"field\": 14}, {\"type\": \"Float\", \"field\": 15}, {\"type\": \"Float\", \"field\": 16}, {\"type\": \"Float\", \"field\": 17}, {\"type\": \"Float\", \"field\": 18}, {\"type\": \"Float\", \"field\": 19}, {\"type\": \"Float\", \"field\": 20}, {\"type\": \"Float\", \"field\": 21}, {\"type\": \"Float\", \"field\": 22}, {\"type\": \"Float\", \"field\": 23}, {\"type\": \"Float\", \"field\": 24}, {\"type\": \"Float\", \"field\": 25}, {\"type\": \"Float\", \"field\": 26}, {\"type\": \"Float\", \"field\": 27}, {\"type\": \"Float\", \"field\": 28}, {\"type\": \"Float\", \"field\": 29}, {\"type\": \"Float\", \"field\": 30}, {\"type\": \"Float\", \"field\": 31}, {\"type\": \"Float\", \"field\": 32}, {\"type\": \"Float\", \"field\": 33}, {\"type\": \"Float\", \"field\": 34}, {\"type\": \"Float\", \"field\": 35}, {\"type\": \"Float\", \"field\": 36}, {\"type\": \"Float\", \"field\": 37}, {\"type\": \"Float\", \"field\": 38}, {\"type\": \"Float\", \"field\": 39}, {\"type\": \"Float\", \"field\": 40}, {\"type\": \"Float\", \"field\": 41}, {\"type\": \"Float\", \"field\": 42}, {\"type\": \"Float\", \"field\": 43}, {\"type\": \"Float\", \"field\": 44}, {\"type\": \"Float\", \"field\": 45}, {\"type\": \"Float\", \"field\": 46}, {\"type\": \"Float\", \"field\": 47}, {\"type\": \"Float\", \"field\": 48}, {\"type\": \"Float\", \"field\": 49}, {\"type\": \"Float\", \"field\": 50}, {\"type\": \"Float\", \"field\": 51}, {\"type\": \"Float\", \"field\": 52}, {\"type\": \"Float\", \"field\": 53}, {\"type\": \"Float\", \"field\": 54}, {\"type\": \"Float\", \"field\": 55}, {\"type\": \"Float\", \"field\": 56}, {\"type\": \"Float\", \"field\": 57}, {\"type\": \"Float\", \"field\": 58}, {\"type\": \"Float\", \"field\": 59}, {\"type\": \"Float\", \"field\": 60}, {\"type\": \"Float\", \"field\": 61}, {\"type\": \"Float\", \"field\": 62}, {\"type\": \"Float\", \"field\": 63}, {\"type\": \"Float\", \"field\": 64}, {\"type\": \"Float\", \"field\": 65}, {\"type\": \"Float\", \"field\": 66}, {\"type\": \"Float\", \"field\": 67}, {\"type\": \"Float\", \"field\": 68}, {\"type\": \"Float\", \"field\": 69}, {\"type\": \"Float\", \"field\": 70}, {\"type\": \"Float\", \"field\": 71}, {\"type\": \"Float\", \"field\": 72}, {\"type\": \"Float\", \"field\": 73}, {\"type\": \"Float\", \"field\": 74}, {\"type\": \"Float\", \"field\": 75}, {\"type\": \"Float\", \"field\": 76}, {\"type\": \"Float\", \"field\": 77}, {\"type\": \"Float\", \"field\": 78}, {\"type\": \"Float\", \"field\": 79}, {\"type\": \"Float\", \"field\": 80}, {\"type\": \"Float\", \"field\": 81}, {\"type\": \"Float\", \"field\": 82}, {\"type\": \"Float\", \"field\": 83}, {\"type\": \"Float\", \"field\": 84}, {\"type\": \"Float\", \"field\": 85}, {\"type\": \"Float\", \"field\": 86}, {\"type\": \"Float\", \"field\": 87}, {\"type\": \"Float\", \"field\": 88}, {\"type\": \"Float\", \"field\": 89}, {\"type\": \"Float\", \"field\": 90}, {\"type\": \"Float\", \"field\": 91}, {\"type\": \"Float\", \"field\": 92}, {\"type\": \"Float\", \"field\": 93}, {\"type\": \"Float\", \"field\": 94}, {\"type\": \"Float\", \"field\": 95}, {\"type\": \"Float\", \"field\": 96}, {\"type\": \"Float\", \"field\": 97}, {\"type\": \"Float\", \"field\": 98}, {\"type\": \"Float\", \"field\": 99}]);\n",
       "            grid.initialize_slick_grid({\"enableColumnReorder\": false, \"syncColumnCellResize\": true, \"forceFitColumns\": true, \"rowHeight\": 28, \"enableTextSelectionOnCells\": true, \"fullWidthRows\": true});\n",
       "        });\n",
       "    });\n",
       "});\n"
      ]
     },
     "metadata": {},
     "output_type": "display_data"
    }
   ],
   "source": [
    "qgrid.show_grid(df.loc[-10:].transpose())"
   ]
  },
  {
   "cell_type": "code",
   "execution_count": null,
   "metadata": {
    "collapsed": true
   },
   "outputs": [],
   "source": []
  },
  {
   "cell_type": "code",
   "execution_count": null,
   "metadata": {
    "collapsed": true
   },
   "outputs": [],
   "source": []
  }
 ],
 "metadata": {
  "celltoolbar": "nbpresent",
  "kernelspec": {
   "display_name": "Python 3",
   "language": "python",
   "name": "python3"
  },
  "language_info": {
   "codemirror_mode": {
    "name": "ipython",
    "version": 3
   },
   "file_extension": ".py",
   "mimetype": "text/x-python",
   "name": "python",
   "nbconvert_exporter": "python",
   "pygments_lexer": "ipython3",
   "version": "3.5.0"
  },
  "nbpresent": {
   "slides": {
    "19890452-c65a-4d7f-8ce8-a60ea0547dd2": {
     "id": "19890452-c65a-4d7f-8ce8-a60ea0547dd2",
     "prev": "539d39df-6c3e-43c4-8bb3-93afb9c21bd9",
     "regions": {
      "3b5a381b-8180-4d21-8f77-13c964dc41a1": {
       "content": {
        "cell": "6dd75bcd-39e8-4254-a6c8-bbdf55498c5b",
        "part": "outputs"
       },
       "height": 0.4096551724137933,
       "id": "3b5a381b-8180-4d21-8f77-13c964dc41a1",
       "width": 0.702241379310345,
       "x": 0.1977586206896551,
       "y": 0.5579310344827584
      },
      "4ef05e93-d197-4f0e-875c-7d1fc31ec9b9": {
       "content": {
        "cell": "6eed45f4-52ca-4107-91a1-22279a469b1e",
        "part": "source"
       },
       "height": 0.12965517241379335,
       "id": "4ef05e93-d197-4f0e-875c-7d1fc31ec9b9",
       "width": 0.2142241379310344,
       "x": 0.05344825218463774,
       "y": 0.4255172413793108
      },
      "ce38bda3-3b5c-4e43-be24-f03775f197bb": {
       "content": {
        "cell": "be1d7bc2-a416-4739-8b9a-e3d9486b73c1",
        "part": "outputs"
       },
       "height": 0.5172413793103453,
       "id": "ce38bda3-3b5c-4e43-be24-f03775f197bb",
       "width": 0.702241379310345,
       "x": 0.19775862068965505,
       "y": 0.011724137931034476
      }
     }
    },
    "539d39df-6c3e-43c4-8bb3-93afb9c21bd9": {
     "id": "539d39df-6c3e-43c4-8bb3-93afb9c21bd9",
     "prev": null,
     "regions": {
      "ab0cd843-1fe3-4238-9c9e-467d5a688507": {
       "content": {
        "cell": "738c9c60-4e56-4357-b895-3e89a7e4cd04",
        "part": "widgets"
       },
       "height": 0.27862068965517256,
       "id": "ab0cd843-1fe3-4238-9c9e-467d5a688507",
       "width": 0.47181036850501734,
       "x": 0.513534506436052,
       "y": 0.695862068965517
      },
      "b423700c-873a-4138-8305-1afabf13d1a2": {
       "content": {
        "cell": "738c9c60-4e56-4357-b895-3e89a7e4cd04",
        "part": "outputs"
       },
       "height": 0.6427586206896546,
       "id": "b423700c-873a-4138-8305-1afabf13d1a2",
       "width": 0.965258620689655,
       "x": 0.017758620689655356,
       "y": 0.02275862068965518
      },
      "e052e7db-b86b-4ce2-b8dd-c7acbb78f4e5": {
       "content": {
        "cell": "738c9c60-4e56-4357-b895-3e89a7e4cd04",
        "part": "source"
       },
       "height": 0.28137931034482727,
       "id": "e052e7db-b86b-4ce2-b8dd-c7acbb78f4e5",
       "width": 0.4601724137931037,
       "x": 0.016982758620689754,
       "y": 0.6931034482758623
      }
     }
    }
   }
  }
 },
 "nbformat": 4,
 "nbformat_minor": 0
}
