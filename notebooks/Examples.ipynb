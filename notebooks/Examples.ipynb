{
 "cells": [
  {
   "cell_type": "code",
   "execution_count": 17,
   "metadata": {
    "collapsed": false
   },
   "outputs": [],
   "source": [
    "from ipywidgets import widgets\n",
    "import numpy as np  \n",
    "import matplotlib.pyplot as plt\n",
    "import pandas"
   ]
  },
  {
   "cell_type": "code",
   "execution_count": null,
   "metadata": {
    "collapsed": true
   },
   "outputs": [],
   "source": [
    "%matplotlib inline"
   ]
  },
  {
   "cell_type": "code",
   "execution_count": null,
   "metadata": {
    "collapsed": false,
    "nbpresent": {
     "id": "738c9c60-4e56-4357-b895-3e89a7e4cd04"
    }
   },
   "outputs": [],
   "source": [
    "@widgets.interact\n",
    "def graph(x=10, y=2):\n",
    "    x = np.array(range(x))\n",
    "    y = x ** y\n",
    "    plt.plot(x, y) \n",
    "    plt.show()"
   ]
  },
  {
   "cell_type": "code",
   "execution_count": 26,
   "metadata": {
    "collapsed": false,
    "nbpresent": {
     "id": "6eed45f4-52ca-4107-91a1-22279a469b1e"
    },
    "scrolled": true
   },
   "outputs": [],
   "source": [
    "df = pandas.DataFrame(\n",
    "    np.random.randn(100, 3)\n",
    ")"
   ]
  },
  {
   "cell_type": "code",
   "execution_count": 28,
   "metadata": {
    "collapsed": false
   },
   "outputs": [
    {
     "data": {
      "text/html": [
       "<div>\n",
       "<table border=\"1\" class=\"dataframe\">\n",
       "  <thead>\n",
       "    <tr style=\"text-align: right;\">\n",
       "      <th></th>\n",
       "      <th>0</th>\n",
       "      <th>1</th>\n",
       "      <th>2</th>\n",
       "      <th>3</th>\n",
       "      <th>4</th>\n",
       "      <th>5</th>\n",
       "      <th>6</th>\n",
       "      <th>7</th>\n",
       "      <th>8</th>\n",
       "      <th>9</th>\n",
       "      <th>10</th>\n",
       "    </tr>\n",
       "  </thead>\n",
       "  <tbody>\n",
       "    <tr>\n",
       "      <th>0</th>\n",
       "      <td>0.591995</td>\n",
       "      <td>0.289414</td>\n",
       "      <td>-0.721760</td>\n",
       "      <td>-1.532654</td>\n",
       "      <td>0.087293</td>\n",
       "      <td>1.647716</td>\n",
       "      <td>0.791623</td>\n",
       "      <td>1.065535</td>\n",
       "      <td>1.084021</td>\n",
       "      <td>-0.270130</td>\n",
       "      <td>0.177516</td>\n",
       "    </tr>\n",
       "    <tr>\n",
       "      <th>1</th>\n",
       "      <td>-1.981231</td>\n",
       "      <td>1.118829</td>\n",
       "      <td>0.850972</td>\n",
       "      <td>-0.812461</td>\n",
       "      <td>-1.264004</td>\n",
       "      <td>0.627541</td>\n",
       "      <td>-1.691652</td>\n",
       "      <td>1.169119</td>\n",
       "      <td>0.234231</td>\n",
       "      <td>0.468026</td>\n",
       "      <td>0.957634</td>\n",
       "    </tr>\n",
       "    <tr>\n",
       "      <th>2</th>\n",
       "      <td>-0.227616</td>\n",
       "      <td>-0.762221</td>\n",
       "      <td>-0.774823</td>\n",
       "      <td>-0.380973</td>\n",
       "      <td>1.364077</td>\n",
       "      <td>0.249065</td>\n",
       "      <td>0.673082</td>\n",
       "      <td>-0.408153</td>\n",
       "      <td>0.459497</td>\n",
       "      <td>0.407810</td>\n",
       "      <td>1.187938</td>\n",
       "    </tr>\n",
       "  </tbody>\n",
       "</table>\n",
       "</div>"
      ],
      "text/plain": [
       "         0         1         2         3         4         5         6   \\\n",
       "0  0.591995  0.289414 -0.721760 -1.532654  0.087293  1.647716  0.791623   \n",
       "1 -1.981231  1.118829  0.850972 -0.812461 -1.264004  0.627541 -1.691652   \n",
       "2 -0.227616 -0.762221 -0.774823 -0.380973  1.364077  0.249065  0.673082   \n",
       "\n",
       "         7         8         9         10  \n",
       "0  1.065535  1.084021 -0.270130  0.177516  \n",
       "1  1.169119  0.234231  0.468026  0.957634  \n",
       "2 -0.408153  0.459497  0.407810  1.187938  "
      ]
     },
     "execution_count": 28,
     "metadata": {},
     "output_type": "execute_result"
    }
   ],
   "source": [
    "df.loc[:10].transpose()"
   ]
  },
  {
   "cell_type": "code",
   "execution_count": 32,
   "metadata": {
    "collapsed": false
   },
   "outputs": [
    {
     "data": {
      "text/html": [
       "<div>\n",
       "<table border=\"1\" class=\"dataframe\">\n",
       "  <thead>\n",
       "    <tr style=\"text-align: right;\">\n",
       "      <th></th>\n",
       "      <th>0</th>\n",
       "      <th>1</th>\n",
       "      <th>2</th>\n",
       "      <th>3</th>\n",
       "      <th>4</th>\n",
       "      <th>5</th>\n",
       "      <th>6</th>\n",
       "      <th>7</th>\n",
       "      <th>8</th>\n",
       "      <th>9</th>\n",
       "      <th>...</th>\n",
       "      <th>90</th>\n",
       "      <th>91</th>\n",
       "      <th>92</th>\n",
       "      <th>93</th>\n",
       "      <th>94</th>\n",
       "      <th>95</th>\n",
       "      <th>96</th>\n",
       "      <th>97</th>\n",
       "      <th>98</th>\n",
       "      <th>99</th>\n",
       "    </tr>\n",
       "  </thead>\n",
       "  <tbody>\n",
       "    <tr>\n",
       "      <th>0</th>\n",
       "      <td>0.591995</td>\n",
       "      <td>0.289414</td>\n",
       "      <td>-0.721760</td>\n",
       "      <td>-1.532654</td>\n",
       "      <td>0.087293</td>\n",
       "      <td>1.647716</td>\n",
       "      <td>0.791623</td>\n",
       "      <td>1.065535</td>\n",
       "      <td>1.084021</td>\n",
       "      <td>-0.270130</td>\n",
       "      <td>...</td>\n",
       "      <td>0.152247</td>\n",
       "      <td>0.113599</td>\n",
       "      <td>-0.183696</td>\n",
       "      <td>-0.470457</td>\n",
       "      <td>1.047787</td>\n",
       "      <td>0.547081</td>\n",
       "      <td>0.138050</td>\n",
       "      <td>0.836084</td>\n",
       "      <td>0.059379</td>\n",
       "      <td>0.312678</td>\n",
       "    </tr>\n",
       "    <tr>\n",
       "      <th>1</th>\n",
       "      <td>-1.981231</td>\n",
       "      <td>1.118829</td>\n",
       "      <td>0.850972</td>\n",
       "      <td>-0.812461</td>\n",
       "      <td>-1.264004</td>\n",
       "      <td>0.627541</td>\n",
       "      <td>-1.691652</td>\n",
       "      <td>1.169119</td>\n",
       "      <td>0.234231</td>\n",
       "      <td>0.468026</td>\n",
       "      <td>...</td>\n",
       "      <td>0.324411</td>\n",
       "      <td>-0.853700</td>\n",
       "      <td>-0.352378</td>\n",
       "      <td>1.020087</td>\n",
       "      <td>-0.420836</td>\n",
       "      <td>-1.224148</td>\n",
       "      <td>-0.436380</td>\n",
       "      <td>0.984874</td>\n",
       "      <td>0.307486</td>\n",
       "      <td>0.422397</td>\n",
       "    </tr>\n",
       "    <tr>\n",
       "      <th>2</th>\n",
       "      <td>-0.227616</td>\n",
       "      <td>-0.762221</td>\n",
       "      <td>-0.774823</td>\n",
       "      <td>-0.380973</td>\n",
       "      <td>1.364077</td>\n",
       "      <td>0.249065</td>\n",
       "      <td>0.673082</td>\n",
       "      <td>-0.408153</td>\n",
       "      <td>0.459497</td>\n",
       "      <td>0.407810</td>\n",
       "      <td>...</td>\n",
       "      <td>0.613646</td>\n",
       "      <td>-1.190392</td>\n",
       "      <td>-1.238844</td>\n",
       "      <td>0.958741</td>\n",
       "      <td>0.051721</td>\n",
       "      <td>-0.319834</td>\n",
       "      <td>-0.042724</td>\n",
       "      <td>1.478835</td>\n",
       "      <td>-1.864071</td>\n",
       "      <td>-0.516011</td>\n",
       "    </tr>\n",
       "  </tbody>\n",
       "</table>\n",
       "<p>3 rows × 100 columns</p>\n",
       "</div>"
      ],
      "text/plain": [
       "         0         1         2         3         4         5         6   \\\n",
       "0  0.591995  0.289414 -0.721760 -1.532654  0.087293  1.647716  0.791623   \n",
       "1 -1.981231  1.118829  0.850972 -0.812461 -1.264004  0.627541 -1.691652   \n",
       "2 -0.227616 -0.762221 -0.774823 -0.380973  1.364077  0.249065  0.673082   \n",
       "\n",
       "         7         8         9     ...           90        91        92  \\\n",
       "0  1.065535  1.084021 -0.270130    ...     0.152247  0.113599 -0.183696   \n",
       "1  1.169119  0.234231  0.468026    ...     0.324411 -0.853700 -0.352378   \n",
       "2 -0.408153  0.459497  0.407810    ...     0.613646 -1.190392 -1.238844   \n",
       "\n",
       "         93        94        95        96        97        98        99  \n",
       "0 -0.470457  1.047787  0.547081  0.138050  0.836084  0.059379  0.312678  \n",
       "1  1.020087 -0.420836 -1.224148 -0.436380  0.984874  0.307486  0.422397  \n",
       "2  0.958741  0.051721 -0.319834 -0.042724  1.478835 -1.864071 -0.516011  \n",
       "\n",
       "[3 rows x 100 columns]"
      ]
     },
     "execution_count": 32,
     "metadata": {},
     "output_type": "execute_result"
    }
   ],
   "source": [
    "df.loc[-10:].transpose()"
   ]
  },
  {
   "cell_type": "code",
   "execution_count": null,
   "metadata": {
    "collapsed": true
   },
   "outputs": [],
   "source": []
  },
  {
   "cell_type": "code",
   "execution_count": null,
   "metadata": {
    "collapsed": true
   },
   "outputs": [],
   "source": []
  }
 ],
 "metadata": {
  "celltoolbar": "nbpresent",
  "kernelspec": {
   "display_name": "Python 3",
   "language": "python",
   "name": "python3"
  },
  "language_info": {
   "codemirror_mode": {
    "name": "ipython",
    "version": 3
   },
   "file_extension": ".py",
   "mimetype": "text/x-python",
   "name": "python",
   "nbconvert_exporter": "python",
   "pygments_lexer": "ipython3",
   "version": "3.5.0"
  },
  "nbpresent": {
   "slides": {
    "19890452-c65a-4d7f-8ce8-a60ea0547dd2": {
     "id": "19890452-c65a-4d7f-8ce8-a60ea0547dd2",
     "prev": "539d39df-6c3e-43c4-8bb3-93afb9c21bd9",
     "regions": {
      "3b5a381b-8180-4d21-8f77-13c964dc41a1": {
       "height": 0.3131034482758624,
       "id": "3b5a381b-8180-4d21-8f77-13c964dc41a1",
       "width": 0.702241379310345,
       "x": 0.1977586206896551,
       "y": 0.5868965517241377
      },
      "4ef05e93-d197-4f0e-875c-7d1fc31ec9b9": {
       "height": 0.12965517241379335,
       "id": "4ef05e93-d197-4f0e-875c-7d1fc31ec9b9",
       "width": 0.2142241379310344,
       "x": 0.05344825218463774,
       "y": 0.4255172413793108
      },
      "ce38bda3-3b5c-4e43-be24-f03775f197bb": {
       "content": {
        "cell": "6eed45f4-52ca-4107-91a1-22279a469b1e",
        "part": "outputs"
       },
       "height": 0.4289655172413798,
       "id": "ce38bda3-3b5c-4e43-be24-f03775f197bb",
       "width": 0.702241379310345,
       "x": 0.19775862068965505,
       "y": 0.1
      }
     }
    },
    "539d39df-6c3e-43c4-8bb3-93afb9c21bd9": {
     "id": "539d39df-6c3e-43c4-8bb3-93afb9c21bd9",
     "prev": null,
     "regions": {
      "ab0cd843-1fe3-4238-9c9e-467d5a688507": {
       "content": {
        "cell": "738c9c60-4e56-4357-b895-3e89a7e4cd04",
        "part": "widgets"
       },
       "height": 0.27862068965517256,
       "id": "ab0cd843-1fe3-4238-9c9e-467d5a688507",
       "width": 0.47181036850501734,
       "x": 0.513534506436052,
       "y": 0.695862068965517
      },
      "b423700c-873a-4138-8305-1afabf13d1a2": {
       "content": {
        "cell": "738c9c60-4e56-4357-b895-3e89a7e4cd04",
        "part": "outputs"
       },
       "height": 0.6427586206896546,
       "id": "b423700c-873a-4138-8305-1afabf13d1a2",
       "width": 0.965258620689655,
       "x": 0.017758620689655356,
       "y": 0.02275862068965518
      },
      "e052e7db-b86b-4ce2-b8dd-c7acbb78f4e5": {
       "content": {
        "cell": "738c9c60-4e56-4357-b895-3e89a7e4cd04",
        "part": "source"
       },
       "height": 0.28137931034482727,
       "id": "e052e7db-b86b-4ce2-b8dd-c7acbb78f4e5",
       "width": 0.4601724137931037,
       "x": 0.016982758620689754,
       "y": 0.6931034482758623
      }
     }
    }
   }
  }
 },
 "nbformat": 4,
 "nbformat_minor": 0
}
