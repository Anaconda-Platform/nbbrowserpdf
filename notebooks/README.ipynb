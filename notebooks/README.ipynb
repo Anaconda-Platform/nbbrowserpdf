{
 "cells": [
  {
   "cell_type": "markdown",
   "metadata": {
    "nbpresent": {
     "id": "07b9c345-f14e-4389-b959-fb5fe9d49d05"
    }
   },
   "source": [
    "# nbpresent\n",
    "> remix your Jupyter Notebooks as interactive slideshows\n",
    "\n",
    "![example movie](http://continuumio.github.io/nbpresent/nbpresent.gif)"
   ]
  },
  {
   "cell_type": "markdown",
   "metadata": {},
   "source": [
    "## Installation\n",
    "```shell\n",
    "pip install nbpresent\n",
    "python -m nbpresent.install\n",
    "```\n",
    "\n",
    "To also _enable_ the extension for every notebook launch:\n",
    "```shell\n",
    "python -m nbpresent.install --enable\n",
    "```\n",
    "\n",
    "### Coming soon\n",
    "- [conda package](https://github.com/ContinuumIO/nbpresent/issues/1)"
   ]
  },
  {
   "cell_type": "markdown",
   "metadata": {
    "collapsed": true
   },
   "source": [
    "## Development\n",
    "The `nbpresent` nbextension is built from `src` with:\n",
    "- less for style\n",
    "- babel for es2015\n",
    "- browserify for packaging\n",
    "\n",
    "These are installed via `npm`:\n",
    "```shell\n",
    "npm install\n",
    "```\n",
    "\n",
    "To build everything:\n",
    "```shell\n",
    "npm run build\n",
    "```\n",
    "\n",
    "To rebuild on every save:\n",
    "```shell\n",
    "npm run watch\n",
    "```\n",
    "\n",
    "To ensure that you always get the right assets, install the nbextension with the `symlink`, `force` and `enable` options:\n",
    "```shell\n",
    "python -m nbpresent.install --force --symlink --enable\n",
    "```"
   ]
  }
 ],
 "metadata": {
  "kernelspec": {
   "display_name": "Python 3",
   "language": "python",
   "name": "python3"
  },
  "language_info": {
   "codemirror_mode": {
    "name": "ipython",
    "version": 3
   },
   "file_extension": ".py",
   "mimetype": "text/x-python",
   "name": "python",
   "nbconvert_exporter": "python",
   "pygments_lexer": "ipython3",
   "version": "3.5.0"
  },
  "nbpresent": {
   "slides": {
    "a87fb7b2-3c13-41ea-9feb-983a101fd4fd": {
     "id": "a87fb7b2-3c13-41ea-9feb-983a101fd4fd",
     "prev": null,
     "regions": {
      "7a423619-90f5-49df-8fdd-cd522cda72df": {
       "content": {
        "cell": "07b9c345-f14e-4389-b959-fb5fe9d49d05",
        "part": "source"
       },
       "height": 0.8,
       "id": "7a423619-90f5-49df-8fdd-cd522cda72df",
       "width": 0.8,
       "x": 0.1,
       "y": 0.1
      }
     }
    }
   }
  }
 },
 "nbformat": 4,
 "nbformat_minor": 0
}
